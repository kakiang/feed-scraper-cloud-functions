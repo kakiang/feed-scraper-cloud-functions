{
  "nbformat": 4,
  "nbformat_minor": 0,
  "metadata": {
    "colab": {
      "name": "Bible in Mundang.ipynb",
      "provenance": [],
      "authorship_tag": "ABX9TyOQtKMgTOtBfPTBKlT5TuAQ",
      "include_colab_link": true
    },
    "kernelspec": {
      "name": "python3",
      "display_name": "Python 3"
    }
  },
  "cells": [
    {
      "cell_type": "markdown",
      "metadata": {
        "id": "view-in-github",
        "colab_type": "text"
      },
      "source": [
        "<a href=\"https://colab.research.google.com/github/kakiang/feed-scraper-cloud-functions/blob/master/Bible_in_Mundang.ipynb\" target=\"_parent\"><img src=\"https://colab.research.google.com/assets/colab-badge.svg\" alt=\"Open In Colab\"/></a>"
      ]
    },
    {
      "cell_type": "markdown",
      "metadata": {
        "id": "S0be_qOdOcZr"
      },
      "source": [
        "\n",
        "# Bibel"
      ]
    },
    {
      "cell_type": "code",
      "metadata": {
        "id": "rZ7lRR7SOZqB",
        "outputId": "25792c43-edac-4d8f-fd05-8132662bbb83",
        "colab": {
          "base_uri": "https://localhost:8080/",
          "height": 34
        }
      },
      "source": [
        "%%writefile scrape_bible_dot_com.py\n",
        "\"\"\"A program that scrapes 'https://www.bible.com/fr/bible/'.\"\"\"\n",
        "\n",
        "import csv\n",
        "import pandas as pd\n",
        "import logging\n",
        "import os\n",
        "import re\n",
        "import uuid\n",
        "from datetime import datetime\n",
        "from time import mktime\n",
        "\n",
        "import requests\n",
        "from bs4 import BeautifulSoup\n",
        "\n",
        "logging.basicConfig(format=\"%(asctime)s - %(message)s\", datefmt=\"%d-%b-%y %H:%M:%S\")\n",
        "logger = logging.getLogger(__name__)\n",
        "\n",
        "books = {\n",
        "    \"GEN\": 50,\n",
        "    \"EXO\": 40,\n",
        "    \"LEV\": 27,\n",
        "    \"NUM\": 36,\n",
        "    \"DEU\": 34,\n",
        "    \"JOS\": 24,\n",
        "    \"JUD\": 1,\n",
        "    \"RUT\": 4,\n",
        "    \"1SA\": 31,\n",
        "    \"2SA\": 24,\n",
        "    \"1KI\": 22,\n",
        "    \"2KI\": 25,\n",
        "    \"1CH\": 29,\n",
        "    \"2CH\": 36,\n",
        "    \"EZR\": 10,\n",
        "    \"NEH\": 13,\n",
        "    \"EST\": 10,\n",
        "    \"JOB\": 42,\n",
        "    \"PSA\": 150,\n",
        "    \"PRO\": 31,\n",
        "    \"ECC\": 12,\n",
        "    \"SNG\": 8,\n",
        "    \"ISA\": 66,\n",
        "    \"JER\": 52,\n",
        "    \"LAM\": 5,\n",
        "    \"EZE\": 48,\n",
        "    \"DAN\": 12,\n",
        "    \"HOS\": 14,\n",
        "    \"JOE\": 3,\n",
        "    \"AMO\": 9,\n",
        "    \"OBA\": 1,\n",
        "    \"JON\": 4,\n",
        "    \"MIC\": 7,\n",
        "    \"NAH\": 3,\n",
        "    \"HAB\": 3,\n",
        "    \"ZEP\": 3,\n",
        "    \"HAG\": 2,\n",
        "    \"ZEC\": 14,\n",
        "    \"MAL\": 4,\n",
        "    \"MAT\": 28,\n",
        "    \"MAR\": 16,\n",
        "    \"LUK\": 24,\n",
        "    \"JOH\": 21,\n",
        "    \"ACT\": 28,\n",
        "    \"JAM\": 5,\n",
        "    \"1PE\": 5,\n",
        "    \"2PE\": 3,\n",
        "    \"1JO\": 5,\n",
        "    \"2JO\": 1,\n",
        "    \"3JO\": 1,\n",
        "    \"ROM\": 16,\n",
        "    \"1CO\": 16,\n",
        "    \"2CO\": 13,\n",
        "    \"GAL\": 6,\n",
        "    \"EPH\": 6,\n",
        "    \"PHI\": 1,\n",
        "    \"COL\": 4,\n",
        "    \"1TH\": 5,\n",
        "    \"2TH\": 3,\n",
        "    \"1TI\": 6,\n",
        "    \"2TI\": 4,\n",
        "    \"TIT\": 3,\n",
        "    \"HEB\": 13,\n",
        "    \"REV\": 22,\n",
        "}\n",
        "\n",
        "\n",
        "def scrape_web_page(url):\n",
        "    \"\"\"Scrape a webpage and returns the soup.\"\"\"\n",
        "    page_response = requests.get(url, timeout=5)\n",
        "    if page_response.status_code != 200:\n",
        "        raise ValueError(\"page_response.status!=200\")\n",
        "    soup = BeautifulSoup(page_response.content, \"html.parser\")\n",
        "    return soup\n",
        "\n",
        "\n",
        "def get_verses(soup):\n",
        "    \"\"\"Get verses tags from soup.\"\"\"\n",
        "    if soup is None:\n",
        "        raise ValueError(\"soup is None\")\n",
        "    list_verses = soup.find_all(\"span\", class_=re.compile(\"^verse\"))\n",
        "    return list_verses\n",
        "\n",
        "\n",
        "def parse_verses(result_set):\n",
        "    \"\"\"Parses verses tags and returns python list of verses.\"\"\"\n",
        "    list_verses_raw = list(result_set)\n",
        "    list_books = list(books)\n",
        "    list_size = len(list_verses_raw)\n",
        "    verses = []\n",
        "    i = 0\n",
        "    while i < list_size:\n",
        "        reference = list_verses_raw[i][\"data-usfm\"]\n",
        "        ref = reference.split(\".\")\n",
        "        book_index = list_books.index(ref[0]) + 1\n",
        "        verse = {}\n",
        "        text = ''\n",
        "        while i < list_size and list_verses_raw[i][\"data-usfm\"] == reference:\n",
        "            all_contents = list_verses_raw[i].find_all(class_='content')\n",
        "            for content in all_contents:\n",
        "                if content.string.strip():\n",
        "                    text = f\"{text} {content.string}\".strip()\n",
        "            i += 1\n",
        "        if text:\n",
        "            verse[\"id\"] = f\"{str(book_index).zfill(2)}{ref[1].zfill(3)}{ref[2].zfill(3)}\"\n",
        "            verse[\"reference\"] = reference\n",
        "            verse[\"book\"] = book_index\n",
        "            verse[\"chapter\"] = ref[1]\n",
        "            verse[\"verse\"] = ref[2]\n",
        "            verse[\"text\"] = text\n",
        "            verses.append(verse)\n",
        "    return verses\n",
        "\n",
        "\n",
        "def save_to_file(data, header, file_name=\"bible_output.csv\"):\n",
        "    \"\"\"Save the scraped data to a file.\"\"\"\n",
        "    if data is None:\n",
        "        raise ValueError(\"data is None\")\n",
        "    with open(file_name, \"wt\") as out_file:\n",
        "        writer = csv.DictWriter(out_file, fieldnames=header)\n",
        "        writer.writeheader()\n",
        "        writer.writerows(data)\n",
        "    return file_name\n",
        "\n",
        "\n",
        "def main():\n",
        "    \"\"\"Defines program entry point.\"\"\"\n",
        "    data = []\n",
        "    for key, value in books.items():\n",
        "        print('\\n', key, end=':')\n",
        "        for i in range(1, value + 1):\n",
        "            print(i, end=',')\n",
        "            # url = f\"https://www.bible.com/fr/bible/863/{key}.{i}.MUAR\"\n",
        "            url = f\"https://www.bible.com/fr/bible/93/{key}.{i}.LSG\"\n",
        "            soup = scrape_web_page(url)\n",
        "            result_set = get_verses(soup)\n",
        "            parsed_list_verses = parse_verses(result_set)\n",
        "            if len(parsed_list_verses) > 0:\n",
        "                data.extend(parsed_list_verses)\n",
        "    # header = [\"id\", \"reference\", \"book\", \"chapter\", \"verse\", \"text\"]\n",
        "    # file_name = save_to_file(data, header, file_name=\"bible_french.csv\")\n",
        "    scraped_df = pd.DataFrame(data)\n",
        "    scraped_df.to_csv('bible_french_lsg.csv', index=False)\n",
        "    print(\"\\nData successfully saved\")\n",
        "\n",
        "\n",
        "# if __name__ == \"__main__\":\n",
        "#     main()"
      ],
      "execution_count": 618,
      "outputs": [
        {
          "output_type": "stream",
          "text": [
            "Writing scrape_bible_dot_com.py\n"
          ],
          "name": "stdout"
        }
      ]
    },
    {
      "cell_type": "code",
      "metadata": {
        "id": "46rKR1rtK78z"
      },
      "source": [
        "# main()\n",
        "# url = f\"https://www.bible.com/fr/bible/93/GEN.1.LSG\"\n",
        "# soup = scrape_web_page(url)\n",
        "# result_set = get_verses(soup)\n",
        "# result_set"
      ],
      "execution_count": null,
      "outputs": []
    },
    {
      "cell_type": "code",
      "metadata": {
        "id": "UDVDna2sAyr4"
      },
      "source": [
        "# from google.colab import files\n",
        "# uploaded = files.upload()\n",
        "# ! mv bible_mundang\\ \\(3\\).csv ./bible_mundang.csv"
      ],
      "execution_count": 1,
      "outputs": []
    },
    {
      "cell_type": "code",
      "metadata": {
        "id": "n_uZViTiPH9E"
      },
      "source": [
        "import re\n",
        "from itertools import chain\n",
        "import pandas as pd\n",
        "import numpy as np\n",
        "pd.set_option('display.width', 100)\n",
        "pd.set_option('max_rows', 100)\n",
        "pd.set_option('max_colwidth', 500)\n",
        "from IPython.core.interactiveshell import InteractiveShell\n",
        "InteractiveShell.ast_node_interactivity = \"all\""
      ],
      "execution_count": 97,
      "outputs": []
    },
    {
      "cell_type": "code",
      "metadata": {
        "id": "p1JcC3n-PY3P",
        "outputId": "4a73ed2f-49be-4b3f-f088-f84b70bf2d92",
        "colab": {
          "base_uri": "https://localhost:8080/",
          "height": 238
        }
      },
      "source": [
        "df_f.to_csv('bible_french_lsg.csv', index=False)\n",
        "df_f = pd.read_csv('bible_french_lsg.csv')\n",
        "print(df_f.shape)\n",
        "df_f.head()"
      ],
      "execution_count": 603,
      "outputs": [
        {
          "output_type": "execute_result",
          "data": {
            "text/html": [
              "<div>\n",
              "<style scoped>\n",
              "    .dataframe tbody tr th:only-of-type {\n",
              "        vertical-align: middle;\n",
              "    }\n",
              "\n",
              "    .dataframe tbody tr th {\n",
              "        vertical-align: top;\n",
              "    }\n",
              "\n",
              "    .dataframe thead th {\n",
              "        text-align: right;\n",
              "    }\n",
              "</style>\n",
              "<table border=\"1\" class=\"dataframe\">\n",
              "  <thead>\n",
              "    <tr style=\"text-align: right;\">\n",
              "      <th></th>\n",
              "      <th>id</th>\n",
              "      <th>reference</th>\n",
              "      <th>book</th>\n",
              "      <th>chapter</th>\n",
              "      <th>verse</th>\n",
              "      <th>text</th>\n",
              "    </tr>\n",
              "  </thead>\n",
              "  <tbody>\n",
              "    <tr>\n",
              "      <th>0</th>\n",
              "      <td>01001001</td>\n",
              "      <td>GEN.1.1</td>\n",
              "      <td>1</td>\n",
              "      <td>1</td>\n",
              "      <td>1</td>\n",
              "      <td>Au commencement, Dieu créa les cieux et la terre.</td>\n",
              "    </tr>\n",
              "    <tr>\n",
              "      <th>1</th>\n",
              "      <td>01001002</td>\n",
              "      <td>GEN.1.2</td>\n",
              "      <td>1</td>\n",
              "      <td>1</td>\n",
              "      <td>2</td>\n",
              "      <td>La terre était informe et vide: il y avait des ténèbres à la surface de l’abîme, et l’esprit de Dieu se mouvait au-dessus des eaux.</td>\n",
              "    </tr>\n",
              "    <tr>\n",
              "      <th>2</th>\n",
              "      <td>01001003</td>\n",
              "      <td>GEN.1.3</td>\n",
              "      <td>1</td>\n",
              "      <td>1</td>\n",
              "      <td>3</td>\n",
              "      <td>Dieu dit: Que la lumière soit! Et la lumière fut.</td>\n",
              "    </tr>\n",
              "    <tr>\n",
              "      <th>3</th>\n",
              "      <td>01001004</td>\n",
              "      <td>GEN.1.4</td>\n",
              "      <td>1</td>\n",
              "      <td>1</td>\n",
              "      <td>4</td>\n",
              "      <td>Dieu vit que la lumière était bonne; et Dieu sépara la lumière d’avec les ténèbres.</td>\n",
              "    </tr>\n",
              "    <tr>\n",
              "      <th>4</th>\n",
              "      <td>01001005</td>\n",
              "      <td>GEN.1.5</td>\n",
              "      <td>1</td>\n",
              "      <td>1</td>\n",
              "      <td>5</td>\n",
              "      <td>Dieu appela la lumière jour, et il appela les ténèbres nuit. Ainsi, il y eut un soir, et il y eut un matin: ce fut le premier jour.</td>\n",
              "    </tr>\n",
              "  </tbody>\n",
              "</table>\n",
              "</div>"
            ],
            "text/plain": [
              "         id  ...                                                                                                                                 text\n",
              "0  01001001  ...                                                                                    Au commencement, Dieu créa les cieux et la terre.\n",
              "1  01001002  ...  La terre était informe et vide: il y avait des ténèbres à la surface de l’abîme, et l’esprit de Dieu se mouvait au-dessus des eaux.\n",
              "2  01001003  ...                                                                                    Dieu dit: Que la lumière soit! Et la lumière fut.\n",
              "3  01001004  ...                                                  Dieu vit que la lumière était bonne; et Dieu sépara la lumière d’avec les ténèbres.\n",
              "4  01001005  ...  Dieu appela la lumière jour, et il appela les ténèbres nuit. Ainsi, il y eut un soir, et il y eut un matin: ce fut le premier jour.\n",
              "\n",
              "[5 rows x 6 columns]"
            ]
          },
          "metadata": {
            "tags": []
          },
          "execution_count": 603
        }
      ]
    },
    {
      "cell_type": "code",
      "metadata": {
        "id": "h6aVDfDoPZ7Z",
        "outputId": "06b9c313-30e2-482d-8f3e-a68bc5ed571a",
        "colab": {
          "base_uri": "https://localhost:8080/",
          "height": 255
        }
      },
      "source": [
        "# df_m.to_csv('bible_mundang.csv', index=False)\n",
        "df_m = pd.read_csv('bible_mundang.csv')\n",
        "print(df_m.shape)\n",
        "df_m.head()"
      ],
      "execution_count": 549,
      "outputs": [
        {
          "output_type": "stream",
          "text": [
            "(26401, 6)\n"
          ],
          "name": "stdout"
        },
        {
          "output_type": "execute_result",
          "data": {
            "text/html": [
              "<div>\n",
              "<style scoped>\n",
              "    .dataframe tbody tr th:only-of-type {\n",
              "        vertical-align: middle;\n",
              "    }\n",
              "\n",
              "    .dataframe tbody tr th {\n",
              "        vertical-align: top;\n",
              "    }\n",
              "\n",
              "    .dataframe thead th {\n",
              "        text-align: right;\n",
              "    }\n",
              "</style>\n",
              "<table border=\"1\" class=\"dataframe\">\n",
              "  <thead>\n",
              "    <tr style=\"text-align: right;\">\n",
              "      <th></th>\n",
              "      <th>id</th>\n",
              "      <th>reference</th>\n",
              "      <th>book</th>\n",
              "      <th>chapter</th>\n",
              "      <th>verse</th>\n",
              "      <th>text</th>\n",
              "    </tr>\n",
              "  </thead>\n",
              "  <tbody>\n",
              "    <tr>\n",
              "      <th>0</th>\n",
              "      <td>1001001</td>\n",
              "      <td>GEN.1.1</td>\n",
              "      <td>1</td>\n",
              "      <td>1</td>\n",
              "      <td>1</td>\n",
              "      <td>Ne cok Masǝŋ mo tǝŋ joŋ sǝŋ ne sǝrri ,</td>\n",
              "    </tr>\n",
              "    <tr>\n",
              "      <th>1</th>\n",
              "      <td>1001002</td>\n",
              "      <td>GEN.1.2</td>\n",
              "      <td>1</td>\n",
              "      <td>1</td>\n",
              "      <td>2</td>\n",
              "      <td>ka sǝr ah zyeɓ vǝr a ba, a tǝkolle. Bii no cok daŋ, so cokfuu no tǝtǝl ahe, Tǝ'yak Masǝŋ a kiŋ tǝ bii ahe.</td>\n",
              "    </tr>\n",
              "    <tr>\n",
              "      <th>2</th>\n",
              "      <td>1001003</td>\n",
              "      <td>GEN.1.3</td>\n",
              "      <td>1</td>\n",
              "      <td>1</td>\n",
              "      <td>3</td>\n",
              "      <td>Masǝŋ faa ka cokfãi mo joŋ, so cokfãi joŋni.</td>\n",
              "    </tr>\n",
              "    <tr>\n",
              "      <th>3</th>\n",
              "      <td>1001004</td>\n",
              "      <td>GEN.1.4</td>\n",
              "      <td>1</td>\n",
              "      <td>1</td>\n",
              "      <td>4</td>\n",
              "      <td>Masǝŋ kwo cokfãi ah pǝsãhe, so woŋ kǝsyil cokfãi ne cokfuu.</td>\n",
              "    </tr>\n",
              "    <tr>\n",
              "      <th>4</th>\n",
              "      <td>1001005</td>\n",
              "      <td>GEN.1.5</td>\n",
              "      <td>1</td>\n",
              "      <td>1</td>\n",
              "      <td>5</td>\n",
              "      <td>Masǝŋ so ɗii cokfãi ah ne comme, ɗii cokfuu ah ne suŋni. So lil joŋni, zah'nan so joŋni, zah'nan vaŋno ah yo.</td>\n",
              "    </tr>\n",
              "  </tbody>\n",
              "</table>\n",
              "</div>"
            ],
            "text/plain": [
              "        id  ...                                                                                                           text\n",
              "0  1001001  ...                                                                         Ne cok Masǝŋ mo tǝŋ joŋ sǝŋ ne sǝrri ,\n",
              "1  1001002  ...     ka sǝr ah zyeɓ vǝr a ba, a tǝkolle. Bii no cok daŋ, so cokfuu no tǝtǝl ahe, Tǝ'yak Masǝŋ a kiŋ tǝ bii ahe.\n",
              "2  1001003  ...                                                                   Masǝŋ faa ka cokfãi mo joŋ, so cokfãi joŋni.\n",
              "3  1001004  ...                                                    Masǝŋ kwo cokfãi ah pǝsãhe, so woŋ kǝsyil cokfãi ne cokfuu.\n",
              "4  1001005  ...  Masǝŋ so ɗii cokfãi ah ne comme, ɗii cokfuu ah ne suŋni. So lil joŋni, zah'nan so joŋni, zah'nan vaŋno ah yo.\n",
              "\n",
              "[5 rows x 6 columns]"
            ]
          },
          "metadata": {
            "tags": []
          },
          "execution_count": 549
        }
      ]
    },
    {
      "cell_type": "code",
      "metadata": {
        "id": "yZhrwFSjfy10"
      },
      "source": [
        "# deletes = df_m[df_m.id.astype(np.str).str.contains(re.compile('[A-Za-z]'))].index\n",
        "# deletes = df_m[df_m.verse.str.contains(re.compile('[A-Za-z]'))].index\n",
        "# list(deletes)\n",
        "# df_m.drop(deletes, inplace=True)\n",
        "# df_m[df_m.verse.str.contains(re.compile('[A-Za-z]'))]\n",
        "# dupl = df_m[df_m.verse.str.contains(re.compile('[A-Za-z]'))]\n",
        "# dupl.reset_index(inplace=True, drop=True)"
      ],
      "execution_count": 231,
      "outputs": []
    },
    {
      "cell_type": "code",
      "metadata": {
        "id": "svo7Ua03bh3Z"
      },
      "source": [
        "# ref_list = list(chain.from_iterable([ref.split('+') for ref in dupl.reference.values]))"
      ],
      "execution_count": 232,
      "outputs": []
    },
    {
      "cell_type": "code",
      "metadata": {
        "id": "En0_oCoef3vL"
      },
      "source": [
        "# df_f_del = df_f[df_f.reference.isin(ref_list)].index\n",
        "# df_f_del"
      ],
      "execution_count": 233,
      "outputs": []
    },
    {
      "cell_type": "code",
      "metadata": {
        "id": "RJWgsqzzoKZq"
      },
      "source": [
        "# df_f.drop(df_f_del, inplace=True)"
      ],
      "execution_count": 234,
      "outputs": []
    },
    {
      "cell_type": "code",
      "metadata": {
        "id": "qTvkRDSLouwF"
      },
      "source": [
        "# df_f[df_f.reference.isin(ref_list)]"
      ],
      "execution_count": 235,
      "outputs": []
    },
    {
      "cell_type": "code",
      "metadata": {
        "id": "C5sCGgpzFpu2"
      },
      "source": [
        "# other = []"
      ],
      "execution_count": 236,
      "outputs": []
    },
    {
      "cell_type": "code",
      "metadata": {
        "id": "E3VYhcPept-R"
      },
      "source": [
        "# lev64 = {\"id\":\"03006004\", \"reference\":\"LEV.6.4\", \"book\":3, \"chapter\":6, \"verse\":4, \"text\": \"Madǝwin ye ɓe, lak ah solai vãm jemma sai.\"}\n",
        "# lev64 = {\"id\":\"03006005\", \"reference\":\"LEV.6.5\", \"book\":3, \"chapter\":6, \"verse\":5, \"text\": \"Madǝwin ye ɓe, lak ah solai vãm jemma sai.\"}\n",
        "# lev820 = {\"id\":\"03008020\", \"reference\":\"LEV.8.20\", \"book\":3, \"chapter\":8, \"verse\":20, \"text\": \"Madǝwin ye ɓe, lak ah solai vãm jemma sai.\"}\n",
        "# lev821 = {\"id\":\"03008021\", \"reference\":\"LEV.8.21\", \"book\":3, \"chapter\":8, \"verse\":21, \"text\": \"Madǝwin ye ɓe, lak ah solai vãm jemma sai.\"}\n",
        "\n",
        "\n",
        "# lev272 = {\"id\":\"03027002\", \"reference\":\"LEV.27.2\", \"book\":3, \"chapter\":27, \"verse\":2, \"text\": \"Mo faa nyi za Israel sye: Dǝɓ mo gbǝ zah pel Dǝɓlii ka nyi dǝfuu nyi ko, dǝɓ ah gak wǝǝ tǝtǝl dǝɓ ah ne lak tǝgbana ɓǝ lai ah mo cuu ɓo, tǝgbana 'man lak ah mo kanra ɓo:\"}\n",
        "# lev273 = {\"id\":\"03027003\", \"reference\":\"LEV.27.3\", \"book\":3, \"chapter\":27, \"verse\":3, \"text\": \"Dǝwor mai mo joŋ syii ɓo jemma gwa ŋhaa dai syii jemma yea, lak ah solai vãm jemma dappe.\"}\n",
        "# lev274 = {\"id\":\"03027004\", \"reference\":\"LEV.27.4\", \"book\":3, \"chapter\":27, \"verse\":4, \"text\": \"Madǝwin ye ɓe, lak ah solai vãm jemma sai.\"}\n",
        "# lev275 = {\"id\":\"03027005\", \"reference\":\"LEV.27.5\", \"book\":3, \"chapter\":27, \"verse\":5, \"text\": \"We wor ma joŋ syii dappe ŋhaa dai syii jemma gwa ye ɓe, lak ah solai vãm jemma gwa, Mǝlaŋ win ye ɓe, lak ah solai vãm jemma vaŋno.\"}\n",
        "# lev276 = {\"id\":\"03027006\", \"reference\":\"LEV.27.6\", \"book\":3, \"chapter\":27, \"verse\":6, \"text\": \"Mo we wor mai mo joŋ fĩi ɓo vaŋno ŋhaa dai syii dappe ye ɓe, lak ah solai vãm dappe, Mo mǝlaŋ win o, lak ah solai vãm sai.\"}\n",
        "# lev277 = {\"id\":\"03027007\", \"reference\":\"LEV.27.7\", \"book\":3, \"chapter\":27, \"verse\":7, \"text\": \"Mo dǝwor ma joŋ syii tǝgbana jemma yea wala ma kal ah ye ɓe, lak ah solai vãm jemma tǝtǝl dappe, Mo madǝwin ye mo joŋ syii ɓo tǝgbana jemma yea wala ma kal ah ye ɓe, lak ah solai vãm jemma vaŋno.\"}"
      ],
      "execution_count": null,
      "outputs": []
    },
    {
      "cell_type": "code",
      "metadata": {
        "id": "HGSV_Bb3NeMx"
      },
      "source": [
        "# num10 = {\"id\":\"04036010\", \"reference\":\"NUM.36.10\", \"book\":4, \"chapter\":36, \"verse\":10, \"text\": \"Wee Selofad maŋwǝǝ joŋra tǝgbana mai Dǝɓlii mo faa nyi Mosus.\"}\n",
        "# num11 = {\"id\":\"04036011\", \"reference\":\"NUM.36.11\", \"book\":4, \"chapter\":36, \"verse\":11, \"text\": \"So Maka, Tersa, Milka, ne Noa kanra wee naa pah pa ɓǝǝra.\"}\n",
        "\n",
        "# king1 = {\"id\":\"11022036\", \"reference\":\"1KI.22.36\", \"book\":11, \"chapter\":22, \"verse\":36, \"text\": \"Ne cok com mo dan o, dahra gor zahjul sal faa: Zune daŋ mo pii soo ge yaŋ ahe, zune daŋ mo pii soo ge sǝr ahe, \"}\n",
        "# king2 = {\"id\":\"11022037\", \"reference\":\"1KI.22.37\", \"book\":11, \"chapter\":22, \"verse\":37, \"text\": \"Mor goŋ wǝ ɓe. So ɓaŋra ko ge yaŋ Samaria ne ko, ge ciira ko gŋ.\"}\n",
        "\n",
        "# other.extend([lev272,lev273,lev274,lev275,lev276,lev277,num10,num11,king1,king2])"
      ],
      "execution_count": null,
      "outputs": []
    },
    {
      "cell_type": "code",
      "metadata": {
        "id": "E9dAHbUoCLl3"
      },
      "source": [
        "# EXO1633 = {\"id\":\"01016033\", \"reference\":\"EXO.16.33\", \"book\":2, \"chapter\":16, \"verse\":33, \"text\": \"Mosus faa nyi Aron: Mo ɓaŋ ciiri, ka mo rǝk manna tahsah tǝ vaŋno ge gŋ, mo kan pel Dǝɓlii ka byak gŋ mor wee ɓii ma fahfalle.\"}\n",
        "# EXO1634 = {\"id\":\"01016034\", \"reference\":\"EXO.16.34\", \"book\":2, \"chapter\":16, \"verse\":34, \"text\": \"Aron ge kan fan ah pel sunduku gbanzahe, tǝgbana Dǝɓlii mo faa.\"}\n",
        "# EXO1635 = {\"id\":\"01016035\", \"reference\":\"EXO.16.35\", \"book\":2, \"chapter\":16, \"verse\":35, \"text\": \"Za Israel rera manna tǝgǝǝ syii jemma nai ŋhaa ge daira tǝsyee sǝr Kanaan.\"}\n",
        "# EXO1636 = {\"id\":\"01016036\", \"reference\":\"EXO.16.36\", \"book\":2, \"chapter\":16, \"verse\":36, \"text\": \"Tahsah ah vaŋno a tǝgbana tahsah jemma gwa ma tǝ'nahko.\"}\n",
        "# EXO191 = {\"id\":\"01019001\", \"reference\":\"EXO.16.36\", \"book\":2, \"chapter\":19, \"verse\":1, \"text\": \"Ne patǝ sai fĩi fahfal za Israel mo pǝ̃ǝra gin sǝr Egib, ge daira kǝsyicok Sinai.\"}\n",
        "# EXO192 = {\"id\":\"01019002\", \"reference\":\"EXO.16.36\", \"book\":2, \"chapter\":19, \"verse\":2, \"text\": \"Urra gin Refidim. Ɗǝrra gŋ kah waare.\"}\n",
        "\n",
        "# EXO2714 = {\"id\":\"01027014\", \"reference\":\"EXO.27.15\", \"book\":2, \"chapter\":27, \"verse\":14, \"text\": \"Zyim rii cok ah ma fah kǝ zahfah kǝki ah mo i jol jemma tǝ dappe, wǝǝdǝǝ ah ra mo yea sai, ɓal ah ra mo yea sai ta.\"}\n",
        "# EXO2715 = {\"id\":\"01027015\", \"reference\":\"EXO.27.15\", \"book\":2, \"chapter\":27, \"verse\":15, \"text\": \"Kǝki ah a nai ta.\"}\n",
        "\n",
        "# other.extend([EXO1633,EXO1634,EXO1635,EXO1636,EXO191,EXO192,EXO2714,EXO2715])"
      ],
      "execution_count": null,
      "outputs": []
    },
    {
      "cell_type": "code",
      "metadata": {
        "id": "5pu-y0Ti5UWi"
      },
      "source": [
        "# df_f.id = df_f.id.astype(np.str).apply(lambda el: el.zfill(8))"
      ],
      "execution_count": 600,
      "outputs": []
    },
    {
      "cell_type": "code",
      "metadata": {
        "id": "hEV7ZhUHrXfi",
        "outputId": "32014d19-6765-4573-cad2-e04af648ee0c",
        "colab": {
          "base_uri": "https://localhost:8080/",
          "height": 34
        }
      },
      "source": [
        "# print(df_m.shape, df_f.shape)"
      ],
      "execution_count": 296,
      "outputs": [
        {
          "output_type": "stream",
          "text": [
            "(26448, 6) (25423, 6)\n"
          ],
          "name": "stdout"
        }
      ]
    },
    {
      "cell_type": "code",
      "metadata": {
        "id": "lU2smH42frbU"
      },
      "source": [
        ""
      ],
      "execution_count": 384,
      "outputs": []
    },
    {
      "cell_type": "code",
      "metadata": {
        "id": "CBmz55vZcOV-",
        "outputId": "cc909f9a-dec2-40f4-88fe-4c42066d58bf",
        "colab": {
          "base_uri": "https://localhost:8080/",
          "height": 352
        }
      },
      "source": [
        "# r1 = 6953\n",
        "# r2 = 6956 \n",
        "# df_f[r1:r2]\n",
        "# df_m[r1:r2]"
      ],
      "execution_count": 385,
      "outputs": [
        {
          "output_type": "execute_result",
          "data": {
            "text/html": [
              "<div>\n",
              "<style scoped>\n",
              "    .dataframe tbody tr th:only-of-type {\n",
              "        vertical-align: middle;\n",
              "    }\n",
              "\n",
              "    .dataframe tbody tr th {\n",
              "        vertical-align: top;\n",
              "    }\n",
              "\n",
              "    .dataframe thead th {\n",
              "        text-align: right;\n",
              "    }\n",
              "</style>\n",
              "<table border=\"1\" class=\"dataframe\">\n",
              "  <thead>\n",
              "    <tr style=\"text-align: right;\">\n",
              "      <th></th>\n",
              "      <th>id</th>\n",
              "      <th>reference</th>\n",
              "      <th>book</th>\n",
              "      <th>chapter</th>\n",
              "      <th>verse</th>\n",
              "      <th>text</th>\n",
              "    </tr>\n",
              "  </thead>\n",
              "  <tbody>\n",
              "    <tr>\n",
              "      <th>6953</th>\n",
              "      <td>9024020</td>\n",
              "      <td>1SA.24.20</td>\n",
              "      <td>9</td>\n",
              "      <td>24</td>\n",
              "      <td>20</td>\n",
              "      <td>Si quelqu’un rencontre son ennemi, le laisse-t-il poursuivre tranquillement son chemin? Que l’Éternel te récompense pour ce que tu m’as fait en ce jour!</td>\n",
              "    </tr>\n",
              "    <tr>\n",
              "      <th>6954</th>\n",
              "      <td>9024021</td>\n",
              "      <td>1SA.24.21</td>\n",
              "      <td>9</td>\n",
              "      <td>24</td>\n",
              "      <td>21</td>\n",
              "      <td>Maintenant voici, je sais que tu régneras, et que la royauté d’Israël restera entre tes mains.</td>\n",
              "    </tr>\n",
              "    <tr>\n",
              "      <th>6955</th>\n",
              "      <td>9024022</td>\n",
              "      <td>1SA.24.22</td>\n",
              "      <td>9</td>\n",
              "      <td>24</td>\n",
              "      <td>22</td>\n",
              "      <td>Jure-moi donc par l’Éternel que tu ne détruiras pas ma postérité après moi, et que tu ne retrancheras pas mon nom de la maison de mon père.</td>\n",
              "    </tr>\n",
              "  </tbody>\n",
              "</table>\n",
              "</div>"
            ],
            "text/plain": [
              "           id  ...                                                                                                                                                      text\n",
              "6953  9024020  ...  Si quelqu’un rencontre son ennemi, le laisse-t-il poursuivre tranquillement son chemin? Que l’Éternel te récompense pour ce que tu m’as fait en ce jour!\n",
              "6954  9024021  ...                                                            Maintenant voici, je sais que tu régneras, et que la royauté d’Israël restera entre tes mains.\n",
              "6955  9024022  ...               Jure-moi donc par l’Éternel que tu ne détruiras pas ma postérité après moi, et que tu ne retrancheras pas mon nom de la maison de mon père.\n",
              "\n",
              "[3 rows x 6 columns]"
            ]
          },
          "metadata": {
            "tags": []
          },
          "execution_count": 385
        },
        {
          "output_type": "execute_result",
          "data": {
            "text/html": [
              "<div>\n",
              "<style scoped>\n",
              "    .dataframe tbody tr th:only-of-type {\n",
              "        vertical-align: middle;\n",
              "    }\n",
              "\n",
              "    .dataframe tbody tr th {\n",
              "        vertical-align: top;\n",
              "    }\n",
              "\n",
              "    .dataframe thead th {\n",
              "        text-align: right;\n",
              "    }\n",
              "</style>\n",
              "<table border=\"1\" class=\"dataframe\">\n",
              "  <thead>\n",
              "    <tr style=\"text-align: right;\">\n",
              "      <th></th>\n",
              "      <th>id</th>\n",
              "      <th>reference</th>\n",
              "      <th>book</th>\n",
              "      <th>chapter</th>\n",
              "      <th>verse</th>\n",
              "      <th>text</th>\n",
              "    </tr>\n",
              "  </thead>\n",
              "  <tbody>\n",
              "    <tr>\n",
              "      <th>6953</th>\n",
              "      <td>9024019</td>\n",
              "      <td>1SA.24.19</td>\n",
              "      <td>9</td>\n",
              "      <td>24</td>\n",
              "      <td>19</td>\n",
              "      <td>Dǝɓ mo lwaa pa syiŋ ah ge pel ɓe, a soɓ ko kal jam ne? Dǝɓlii mo soo mo tǝ ɓǝ sãh mai mo joŋ ɓo wo ɓe tǝ'nahko.</td>\n",
              "    </tr>\n",
              "    <tr>\n",
              "      <th>6954</th>\n",
              "      <td>9024020</td>\n",
              "      <td>1SA.24.20</td>\n",
              "      <td>9</td>\n",
              "      <td>24</td>\n",
              "      <td>20</td>\n",
              "      <td>Daga zǝzǝ̃ǝko me tǝ ɓe, mo ye ga yea goŋe. Goŋ Israel ga yea jol ɓo.</td>\n",
              "    </tr>\n",
              "    <tr>\n",
              "      <th>6955</th>\n",
              "      <td>9024021</td>\n",
              "      <td>1SA.24.21</td>\n",
              "      <td>9</td>\n",
              "      <td>24</td>\n",
              "      <td>21</td>\n",
              "      <td>Mo haa zah nyi me ne tǝɗii Dǝɓlii, mo ka mgboo tǝ nah ɓe fahfal ɓe ya, so mo ka muŋ tǝɗii ɓe gin yaŋ pa ɓe ya.</td>\n",
              "    </tr>\n",
              "  </tbody>\n",
              "</table>\n",
              "</div>"
            ],
            "text/plain": [
              "           id  ...                                                                                                             text\n",
              "6953  9024019  ...  Dǝɓ mo lwaa pa syiŋ ah ge pel ɓe, a soɓ ko kal jam ne? Dǝɓlii mo soo mo tǝ ɓǝ sãh mai mo joŋ ɓo wo ɓe tǝ'nahko.\n",
              "6954  9024020  ...                                             Daga zǝzǝ̃ǝko me tǝ ɓe, mo ye ga yea goŋe. Goŋ Israel ga yea jol ɓo.\n",
              "6955  9024021  ...   Mo haa zah nyi me ne tǝɗii Dǝɓlii, mo ka mgboo tǝ nah ɓe fahfal ɓe ya, so mo ka muŋ tǝɗii ɓe gin yaŋ pa ɓe ya.\n",
              "\n",
              "[3 rows x 6 columns]"
            ]
          },
          "metadata": {
            "tags": []
          },
          "execution_count": 385
        }
      ]
    },
    {
      "cell_type": "code",
      "metadata": {
        "id": "qsi9VSnP4Rfm"
      },
      "source": [
        "# df_f.drop(list(range(10983,11078)), inplace=True)"
      ],
      "execution_count": 585,
      "outputs": []
    },
    {
      "cell_type": "code",
      "metadata": {
        "id": "rm029jtwMxKA"
      },
      "source": [
        "# gen14 = {\"id\":\"01009014\", \"reference\":\"GEN.9.14\", \"book\":1, \"chapter\":9, \"verse\":14, \"text\": \"Ne cok mee ga tai swãh sǝŋ tǝcee moo ga pǝ̃ǝ pǝzyil ah \"}\n",
        "# gen15 = {\"id\":\"01009015\", \"reference\":\"GEN.9.15\", \"book\":1, \"chapter\":9, \"verse\":15, \"text\": \"me ga foo ɓǝ gbanzah ɓe kǝsyil ɓe ne we tǝkine fan ma ne cee daŋ. Bii ka ga ge tǝ sǝr ka vǝr fan ma ne cee faɗa yao.\"}\n",
        "\n",
        "# gen29 = {\"id\":\"01024029\", \"reference\":\"GEN.24.29\", \"book\":1, \"chapter\":24, \"verse\":29, \"text\": \"Rebeka no ne naa mam pǝworre, a ɗii ne Laban.\"}\n",
        "# gen30 = {\"id\":\"01024030\", \"reference\":\"GEN.24.30\", \"book\":1, \"chapter\":24, \"verse\":30, \"text\": \"Laa ɓǝ mai Rebeka mo kee nyi ra, tǝkine ɓǝ mai dǝɓ yeɓ Abraham mo faa nyi ko daŋ, so kwo tǝgaa ne fan zahkpem jol mo zahkpem jol naa mah ahe. So Laban pǝ̃ǝ ɗuu kal ge wo dǝɓ ah ka uu ɓo kah njoŋnjoŋ ah ra zah lak bii.\"}\n",
        "\n",
        "# gen3610 = {\"id\":\"01036010\", \"reference\":\"GEN.36.10\", \"book\":1, \"chapter\":36, \"verse\":10, \"text\": \"Esau byaŋ we vaŋno ne Ada, a ɗii ne Elifas. Esau so byaŋ we maki ah ne Basemat, a ɗii ne Ruel.\"}\n",
        "# gen3611 = {\"id\":\"01036011\", \"reference\":\"GEN.36.11\", \"book\":1, \"chapter\":36, \"verse\":11, \"text\": \"Elifas bem wee dappe, tǝɗii ɓǝǝ naiko: Teman ne Omar, Zefo, Gatam, tǝkine Kenas.\"}\n",
        "# gen3612 = {\"id\":\"01036012\", \"reference\":\"GEN.36.12\", \"book\":1, \"chapter\":36, \"verse\":12, \"text\": \"Esau byaŋ we maki ah ne Timna, a ɗii ne Amalek.\"}\n",
        "# gen3613 = {\"id\":\"01036013\", \"reference\":\"GEN.36.13\", \"book\":1, \"chapter\":36, \"verse\":13, \"text\": \"Ruel bem wee nai, tǝɗii ɓǝǝ naiko: Nahat, Zera, Syamma, tǝkine Mizza.\"}\n",
        "\n",
        "# gen4321 = {\"id\":\"01043021\", \"reference\":\"GEN.43.21\", \"book\":1, \"chapter\":43, \"verse\":21, \"text\": \"ne cok ru ge dai pǝ cok ɗǝrri, ru gbǝr zah dah ɓuuru, ru lwaa lak zune daŋ maa ɓo zah dah ahe, lak zune daŋ na kee ah mo kee ɓo. Ru so woo jin ge ɓo ne ko.\"}\n",
        "# gen4322 = {\"id\":\"01043022\", \"reference\":\"GEN.43.22\", \"book\":1, \"chapter\":43, \"verse\":22, \"text\": \"Ru so woo lak maki ah ge ɓo ne ka lee farel ne ta. Ru tǝ dǝɓ mai mo ge rǝk lak ɓuu zah dah ɓuur a.\"}\n",
        "\n",
        "# # other.extend([gen14,gen15,gen29,gen30,gen3610,gen3611,gen3612,gen3613,gen4321,gen4322])"
      ],
      "execution_count": 69,
      "outputs": []
    },
    {
      "cell_type": "code",
      "metadata": {
        "id": "qZRD7svqpzTZ"
      },
      "source": [
        "# ezr31 = {\"id\":\"15010031\", \"reference\":\"EZR.10.31\", \"book\":15, \"chapter\":10, \"verse\":31, \"text\": \"Ma morsǝ̃ǝ Harim ye Eliezar, Isija, Malkia, Semaja, Simon,\"}\n",
        "# ezr32 = {\"id\":\"15010032\", \"reference\":\"EZR.10.32\", \"book\":15, \"chapter\":10, \"verse\":32, \"text\": \"Benyaamin, Maluk, ne Semaria.\"}\n",
        "# ezr34 = {\"id\":\"15010034\", \"reference\":\"EZR.10.34\", \"book\":15, \"chapter\":10, \"verse\":34, \"text\": \"Ma morsǝ̃ǝ Bani ye Maadai, Amram, Uel,\"}\n",
        "# ezr35 = {\"id\":\"15010035\", \"reference\":\"EZR.10.35\", \"book\":15, \"chapter\":10, \"verse\":35, \"text\": \"Benaja, Bedia, Keluku,\"}\n",
        "# ezr36 = {\"id\":\"15010036\", \"reference\":\"EZR.10.36\", \"book\":15, \"chapter\":10, \"verse\":36, \"text\": \"Vania, Merimot, Eliasiɓ,\"}\n",
        "# ezr37 = {\"id\":\"15010037\", \"reference\":\"EZR.10.37\", \"book\":15, \"chapter\":10, \"verse\":37, \"text\": \"Mattania, Matenai, ne Jaasai.\"}\n",
        "# ezr38 = {\"id\":\"15010038\", \"reference\":\"EZR.10.38\", \"book\":15, \"chapter\":10, \"verse\":38, \"text\": \"Bani, Binwi, Syimai,\"}\n",
        "# ezr39 = {\"id\":\"15010039\", \"reference\":\"EZR.10.39\", \"book\":15, \"chapter\":10, \"verse\":39, \"text\": \"Selemia, Natan, Adaija,\"}\n",
        "# ezr40 = {\"id\":\"15010040\", \"reference\":\"EZR.10.40\", \"book\":15, \"chapter\":10, \"verse\":40, \"text\": \"Maknabai, Saskai, Syarai,\"}\n",
        "# ezr41 = {\"id\":\"15010041\", \"reference\":\"EZR.10.41\", \"book\":15, \"chapter\":10, \"verse\":41, \"text\": \"Azarel, Selemia, Semaria,\"}\n",
        "# ezr42 = {\"id\":\"15010042\", \"reference\":\"EZR.10.42\", \"book\":15, \"chapter\":10, \"verse\":42, \"text\": \"Sallum, Amaria, ne Yuseɓ.\"}\n",
        "\n",
        "# other.extend([ezr31,ezr32,ezr34,ezr35,ezr36,ezr37,ezr38,ezr39,ezr40,ezr41,ezr42])"
      ],
      "execution_count": null,
      "outputs": []
    },
    {
      "cell_type": "code",
      "metadata": {
        "id": "xeI-iZXLp4FY"
      },
      "source": [
        "# jer21 = {\"id\":\"24052021\", \"reference\":\"JER.52.21\", \"book\":24, \"chapter\":52, \"verse\":21, \"text\": \"Wǝǝdǝǝ matǝ gwa, pǝzyil ah gǝǝgǝǝ vaŋno ah i jol ɓo jemma tǝtǝl nama, suu waddǝǝ malii kahlaa ah i jol jemma tǝtǝl gwa, yǝk vãm ah 'ah ah nǝn tǝwee jol nai.\"}\n",
        "# jer22 = {\"id\":\"24052022\", \"reference\":\"JER.52.22\", \"book\":24, \"chapter\":52, \"verse\":22, \"text\": \"Tǝtǝl ma vãm syẽ ah mai mo tǝtǝl ahe, wah ah i jol dappe. Fan ma kǝkaŋ ah ne foto kpuu grenadin kiŋ tǝtǝl ah zyaŋ cyõ, fan ah ra daŋ a ne vãm syẽ.\"}\n",
        "\n",
        "# other.extend([jer21,jer22])\n",
        "# print(len(other))"
      ],
      "execution_count": null,
      "outputs": []
    },
    {
      "cell_type": "code",
      "metadata": {
        "id": "Tk66FPmQ06Lx"
      },
      "source": [
        "# df_m = df_m.append(other, ignore_index=True)"
      ],
      "execution_count": 70,
      "outputs": []
    },
    {
      "cell_type": "code",
      "metadata": {
        "id": "EVOrCjDCdxCG"
      },
      "source": [
        "# df_f = df_f.sort_values(by='id', ignore_index=True)\n",
        "# sorted.reset_index(inplace=True, drop=True)\n",
        "# df_f[2831:2840]"
      ],
      "execution_count": 602,
      "outputs": []
    },
    {
      "cell_type": "code",
      "metadata": {
        "id": "Wxk8k-oYwlYV"
      },
      "source": [
        "# df_f.drop([10973], inplace=True)\n",
        "# df_m[df_m.duplicated(subset=['reference'], keep=False)]\n",
        "# df_m[2852:2855]"
      ],
      "execution_count": 556,
      "outputs": []
    },
    {
      "cell_type": "code",
      "metadata": {
        "id": "afoWt_LqL9Ar",
        "outputId": "cd168013-557c-4af3-ca35-776e9a06b167",
        "colab": {
          "base_uri": "https://localhost:8080/",
          "height": 97
        }
      },
      "source": [
        "# df_m.drop_duplicates(subset=['reference'], inplace=True, ignore_index=True)\n",
        "df_f[df_f.reference == 'EZR.7.8+EZR.7.9']"
      ],
      "execution_count": 607,
      "outputs": [
        {
          "output_type": "execute_result",
          "data": {
            "text/html": [
              "<div>\n",
              "<style scoped>\n",
              "    .dataframe tbody tr th:only-of-type {\n",
              "        vertical-align: middle;\n",
              "    }\n",
              "\n",
              "    .dataframe tbody tr th {\n",
              "        vertical-align: top;\n",
              "    }\n",
              "\n",
              "    .dataframe thead th {\n",
              "        text-align: right;\n",
              "    }\n",
              "</style>\n",
              "<table border=\"1\" class=\"dataframe\">\n",
              "  <thead>\n",
              "    <tr style=\"text-align: right;\">\n",
              "      <th></th>\n",
              "      <th>id</th>\n",
              "      <th>reference</th>\n",
              "      <th>book</th>\n",
              "      <th>chapter</th>\n",
              "      <th>verse</th>\n",
              "      <th>text</th>\n",
              "    </tr>\n",
              "  </thead>\n",
              "  <tbody>\n",
              "    <tr>\n",
              "      <th>11031</th>\n",
              "      <td>150078+EZR</td>\n",
              "      <td>EZR.7.8+EZR.7.9</td>\n",
              "      <td>15</td>\n",
              "      <td>7</td>\n",
              "      <td>8+EZR</td>\n",
              "      <td>Urra gin sǝr Babilon ne fĩi patǝ vaŋno ah ne zah'nan vaŋno ta. Masǝŋ gbah jol ɓǝǝ ge daira yaŋ Jerusalem ne fĩi patǝ dappe ah ne zah'nan vaŋno ahe.</td>\n",
              "    </tr>\n",
              "  </tbody>\n",
              "</table>\n",
              "</div>"
            ],
            "text/plain": [
              "               id  ...                                                                                                                                                 text\n",
              "11031  150078+EZR  ...  Urra gin sǝr Babilon ne fĩi patǝ vaŋno ah ne zah'nan vaŋno ta. Masǝŋ gbah jol ɓǝǝ ge daira yaŋ Jerusalem ne fĩi patǝ dappe ah ne zah'nan vaŋno ahe.\n",
              "\n",
              "[1 rows x 6 columns]"
            ]
          },
          "metadata": {
            "tags": []
          },
          "execution_count": 607
        }
      ]
    },
    {
      "cell_type": "code",
      "metadata": {
        "id": "fh7CJrK32vtv"
      },
      "source": [
        "# !rm bible_french_lsg.csv bible_mundang.csv"
      ],
      "execution_count": 547,
      "outputs": []
    },
    {
      "cell_type": "code",
      "metadata": {
        "id": "5gT8swRRGPbt"
      },
      "source": [
        "df_ct = pd.concat([df_f[['text']][:11031], df_m[['text']][:11031]], axis=1, )\n",
        "df_ct.head()"
      ],
      "execution_count": 610,
      "outputs": []
    },
    {
      "cell_type": "code",
      "metadata": {
        "id": "YfiRVGqYGyPK"
      },
      "source": [
        "# df_ct.to_csv('fr_mu.tsv', sep='\\t', header=None, index=False)"
      ],
      "execution_count": 614,
      "outputs": []
    },
    {
      "cell_type": "markdown",
      "metadata": {
        "id": "urlt6fDLSdVb"
      },
      "source": [
        "## Different rows"
      ]
    },
    {
      "cell_type": "code",
      "metadata": {
        "id": "cvZ3d8nABV7E"
      },
      "source": [
        "df_c = pd.concat([df_f[['reference']], df_m[['reference']]], axis=1, )"
      ],
      "execution_count": 604,
      "outputs": []
    },
    {
      "cell_type": "code",
      "metadata": {
        "id": "7pEdlgDAIX3u"
      },
      "source": [
        "df_c.columns = ['fr', 'mo']"
      ],
      "execution_count": 605,
      "outputs": []
    },
    {
      "cell_type": "code",
      "metadata": {
        "id": "rzaG3NLCJ3Rt"
      },
      "source": [
        "df_c[df_c.fr != df_c.mo][:10]"
      ],
      "execution_count": 616,
      "outputs": []
    },
    {
      "cell_type": "code",
      "metadata": {
        "id": "qMbXzUi1QhRy"
      },
      "source": [
        "# f, l = 7917, 7935, 7950\n",
        "f, l = 11030, 11032 # 11102\n",
        "df_f[f:l]\n",
        "df_m[f:l]"
      ],
      "execution_count": 617,
      "outputs": []
    },
    {
      "cell_type": "code",
      "metadata": {
        "id": "5NFNBxYyR0sc"
      },
      "source": [
        "# for i in range(10973,10399):\n",
        "#     df_m.loc[i,'id'] = df_f.loc[i,'id']\n",
        "#     df_m.loc[i,'reference'] = df_f.loc[i,'reference']\n",
        "#     df_m.loc[i,'book'] = df_f.loc[i,'chapter']\n",
        "#     df_m.loc[i,'verse'] = df_f.loc[i,'verse']"
      ],
      "execution_count": 499,
      "outputs": []
    }
  ]
}